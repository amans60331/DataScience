{
 "cells": [
  {
   "cell_type": "markdown",
   "id": "4b61e19e",
   "metadata": {},
   "source": [
    "## Aman Sharma"
   ]
  },
  {
   "cell_type": "code",
   "execution_count": null,
   "id": "cab2babd",
   "metadata": {},
   "outputs": [],
   "source": [
    "# Operation 1 - Importing all the required Python libraries\n",
    "import pandas as pd\n",
    "import numpy as np"
   ]
  },
  {
   "cell_type": "code",
   "execution_count": null,
   "id": "f6cdb5e5",
   "metadata": {},
   "outputs": [],
   "source": [
    "# Operation 2 & 3 - Load the Dataset into a pandas data frame. \n",
    "# Reading the given dataset using the pandas library\n",
    "df = pd.read_csv(\"melb_data.csv\")"
   ]
  },
  {
   "cell_type": "code",
   "execution_count": null,
   "id": "d354c744",
   "metadata": {},
   "outputs": [],
   "source": [
    "# Operation 4 - Data Preprocessing\n",
    "# Checking for missing values in the dataset\n",
    "df.isnull()"
   ]
  },
  {
   "cell_type": "code",
   "execution_count": null,
   "id": "68ff56b8",
   "metadata": {},
   "outputs": [],
   "source": [
    "df.head() # Return top 5 rows of the data frame"
   ]
  },
  {
   "cell_type": "code",
   "execution_count": null,
   "id": "7675590a",
   "metadata": {
    "scrolled": true
   },
   "outputs": [],
   "source": [
    "# View some basic statistical details like percentile, mean, std etc. of a data frame\n",
    "df.describe()"
   ]
  },
  {
   "cell_type": "code",
   "execution_count": null,
   "id": "972526e7",
   "metadata": {},
   "outputs": [],
   "source": [
    "df.shape # Get rows, columns"
   ]
  },
  {
   "cell_type": "code",
   "execution_count": null,
   "id": "de2d33f6",
   "metadata": {},
   "outputs": [],
   "source": [
    "df.size # Get size of dataframe (total number of elements = rows x columns)"
   ]
  },
  {
   "cell_type": "code",
   "execution_count": null,
   "id": "b2d444de",
   "metadata": {},
   "outputs": [],
   "source": [
    "df.ndim # Get the dimension of the dataframe. For a dataframe, dimesnion = 2"
   ]
  },
  {
   "cell_type": "code",
   "execution_count": null,
   "id": "997b3de2",
   "metadata": {},
   "outputs": [],
   "source": [
    "df.info # Get a summary/overview of the dataset"
   ]
  },
  {
   "cell_type": "code",
   "execution_count": null,
   "id": "a7c3b62d",
   "metadata": {},
   "outputs": [],
   "source": [
    "#Operation 5.1 - Data Formatting - Applying type conversions\n",
    "df.dtypes # Get a list of datatypes for each column"
   ]
  },
  {
   "cell_type": "code",
   "execution_count": null,
   "id": "c3eb2462",
   "metadata": {},
   "outputs": [],
   "source": [
    "# Converting the datatypes of columns\n",
    "df['Bedroom2'] = df['Bedroom2'].astype(int)\n",
    "df['Bathroom'] = df['Bathroom'].astype(int)\n",
    "df['Propertycount'] = df['Propertycount'].astype(int)"
   ]
  },
  {
   "cell_type": "code",
   "execution_count": null,
   "id": "2d341e0e",
   "metadata": {},
   "outputs": [],
   "source": [
    "df.dtypes # Checking if the datatypes have been converted"
   ]
  },
  {
   "cell_type": "code",
   "execution_count": null,
   "id": "bfa35114",
   "metadata": {},
   "outputs": [],
   "source": [
    "# Operation 5.2 - Data Normalization\n",
    "# Importing the MinMaxScaler from scikitlearn library\n",
    "from sklearn.preprocessing import MinMaxScaler"
   ]
  },
  {
   "cell_type": "code",
   "execution_count": null,
   "id": "c7d0c110",
   "metadata": {},
   "outputs": [],
   "source": [
    "# Creating a subset of the existing dataframe to perform Normaliztion\n",
    "new_data = df[['Bedroom2', 'Bathroom']].copy()\n",
    "\n",
    "# Using the MinMixScaler Normalization method\n",
    "scaler = MinMaxScaler()\n",
    "# shorturl.at/bwKR3 - Documnetation for fit_transform() function\n",
    "new_data_scaled = scaler.fit_transform(new_data)\n",
    "\n",
    "new_data_scaled"
   ]
  },
  {
   "cell_type": "code",
   "execution_count": null,
   "id": "2762d57c",
   "metadata": {},
   "outputs": [],
   "source": [
    "# Operation 6 - Turning categorical variables into quantitative variables\n",
    "# Creating an new dataset as an example to perform Operation 6\n",
    "data = {'name': ['Sheldon', 'Leonard', 'Penny', 'Howard', 'Raj', 'Amy', 'Bernadette'],\n",
    "                'gender': ['male', 'male', 'female', 'male', 'male', 'female', 'female']}\n",
    "\n",
    "df_2 = pd.DataFrame(data, columns = ['name', 'gender'])\n",
    "display(df_2)"
   ]
  },
  {
   "cell_type": "code",
   "execution_count": null,
   "id": "70c8fb9e",
   "metadata": {},
   "outputs": [],
   "source": [
    "# Converting the gender variable into quantitative variables\n",
    "df_2_gender = pd.get_dummies(df_2['gender'])\n",
    "\n",
    "df_2_new = pd.concat([df_2, df_2_gender], axis=1)\n",
    "display(df_2_new)"
   ]
  },
  {
   "cell_type": "code",
   "execution_count": null,
   "id": "11971c23",
   "metadata": {},
   "outputs": [],
   "source": [
    "# Extracting the 'Type' column from our dataset to perform Operation 6\n",
    "df_test = df.Type\n",
    "df_test = pd.DataFrame(df_test, columns = ['Type'])\n",
    "df_test"
   ]
  },
  {
   "cell_type": "code",
   "execution_count": null,
   "id": "f138452c",
   "metadata": {},
   "outputs": [],
   "source": [
    "# Converting the variables in the column 'Type' into quantitative variables\n",
    "df_test_type = pd.get_dummies(df_test['Type'])\n",
    "\n",
    "df_test_converted = pd.concat([df_test, df_test_type], axis=1)\n",
    "display(df_test_converted)"
   ]
  },
  {
   "cell_type": "code",
   "execution_count": null,
   "id": "17b602d2",
   "metadata": {},
   "outputs": [],
   "source": [
    "dftype = df.Type\n",
    "df = pd.DataFrame(dftype, coloumns = )\n",
    "\n",
    "df1 = pd.get_dummies(dftype , )"
   ]
  }
 ],
 "metadata": {
  "kernelspec": {
   "display_name": "Python 3 (ipykernel)",
   "language": "python",
   "name": "python3"
  },
  "language_info": {
   "codemirror_mode": {
    "name": "ipython",
    "version": 3
   },
   "file_extension": ".py",
   "mimetype": "text/x-python",
   "name": "python",
   "nbconvert_exporter": "python",
   "pygments_lexer": "ipython3",
   "version": "3.9.2"
  }
 },
 "nbformat": 4,
 "nbformat_minor": 5
}
